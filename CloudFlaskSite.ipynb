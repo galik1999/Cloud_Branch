{
  "cells": [
    {
      "cell_type": "markdown",
      "metadata": {
        "id": "view-in-github",
        "colab_type": "text"
      },
      "source": [
        "<a href=\"https://colab.research.google.com/github/galik1999/Cloud_Branch/blob/main/CloudFlaskSite.ipynb\" target=\"_parent\"><img src=\"https://colab.research.google.com/assets/colab-badge.svg\" alt=\"Open In Colab\"/></a>"
      ]
    },
    {
      "cell_type": "code",
      "execution_count": 2,
      "metadata": {
        "colab": {
          "base_uri": "https://localhost:8080/"
        },
        "id": "Xm1KoQ48JQZA",
        "outputId": "7222d703-da89-4c0d-cd5c-1156949ff8af"
      },
      "outputs": [
        {
          "output_type": "stream",
          "name": "stdout",
          "text": [
            "Looking in indexes: https://pypi.org/simple, https://us-python.pkg.dev/colab-wheels/public/simple/\n",
            "Requirement already satisfied: pyngrok==4.1.1 in /usr/local/lib/python3.10/dist-packages (4.1.1)\n",
            "Requirement already satisfied: future in /usr/local/lib/python3.10/dist-packages (from pyngrok==4.1.1) (0.18.3)\n",
            "Requirement already satisfied: PyYAML in /usr/local/lib/python3.10/dist-packages (from pyngrok==4.1.1) (6.0)\n"
          ]
        }
      ],
      "source": [
        "!pip install pyngrok==4.1.1"
      ]
    },
    {
      "cell_type": "code",
      "execution_count": 3,
      "metadata": {
        "colab": {
          "base_uri": "https://localhost:8080/"
        },
        "id": "9bA2U7h9JRES",
        "outputId": "d50a36eb-a61b-46bb-de2f-70d3ab1f85bd"
      },
      "outputs": [
        {
          "output_type": "stream",
          "name": "stdout",
          "text": [
            "Looking in indexes: https://pypi.org/simple, https://us-python.pkg.dev/colab-wheels/public/simple/\n",
            "Requirement already satisfied: flask_ngrok in /usr/local/lib/python3.10/dist-packages (0.0.25)\n",
            "Requirement already satisfied: Flask>=0.8 in /usr/local/lib/python3.10/dist-packages (from flask_ngrok) (2.2.4)\n",
            "Requirement already satisfied: requests in /usr/local/lib/python3.10/dist-packages (from flask_ngrok) (2.27.1)\n",
            "Requirement already satisfied: Werkzeug>=2.2.2 in /usr/local/lib/python3.10/dist-packages (from Flask>=0.8->flask_ngrok) (2.3.0)\n",
            "Requirement already satisfied: Jinja2>=3.0 in /usr/local/lib/python3.10/dist-packages (from Flask>=0.8->flask_ngrok) (3.1.2)\n",
            "Requirement already satisfied: itsdangerous>=2.0 in /usr/local/lib/python3.10/dist-packages (from Flask>=0.8->flask_ngrok) (2.1.2)\n",
            "Requirement already satisfied: click>=8.0 in /usr/local/lib/python3.10/dist-packages (from Flask>=0.8->flask_ngrok) (8.1.3)\n",
            "Requirement already satisfied: urllib3<1.27,>=1.21.1 in /usr/local/lib/python3.10/dist-packages (from requests->flask_ngrok) (1.26.15)\n",
            "Requirement already satisfied: certifi>=2017.4.17 in /usr/local/lib/python3.10/dist-packages (from requests->flask_ngrok) (2022.12.7)\n",
            "Requirement already satisfied: charset-normalizer~=2.0.0 in /usr/local/lib/python3.10/dist-packages (from requests->flask_ngrok) (2.0.12)\n",
            "Requirement already satisfied: idna<4,>=2.5 in /usr/local/lib/python3.10/dist-packages (from requests->flask_ngrok) (3.4)\n",
            "Requirement already satisfied: MarkupSafe>=2.0 in /usr/local/lib/python3.10/dist-packages (from Jinja2>=3.0->Flask>=0.8->flask_ngrok) (2.1.2)\n"
          ]
        }
      ],
      "source": [
        "!pip install flask_ngrok"
      ]
    },
    {
      "cell_type": "code",
      "execution_count": 4,
      "metadata": {
        "colab": {
          "base_uri": "https://localhost:8080/"
        },
        "id": "aDPOLFZUJQ6O",
        "outputId": "e11801d5-b25d-4f95-f257-e7e045e7a42f"
      },
      "outputs": [
        {
          "output_type": "stream",
          "name": "stdout",
          "text": [
            "Looking in indexes: https://pypi.org/simple, https://us-python.pkg.dev/colab-wheels/public/simple/\n",
            "Requirement already satisfied: firebase in /usr/local/lib/python3.10/dist-packages (4.0.1)\n",
            "Requirement already satisfied: requests in /usr/local/lib/python3.10/dist-packages (from firebase) (2.27.1)\n",
            "Requirement already satisfied: urllib3<1.27,>=1.21.1 in /usr/local/lib/python3.10/dist-packages (from requests->firebase) (1.26.15)\n",
            "Requirement already satisfied: certifi>=2017.4.17 in /usr/local/lib/python3.10/dist-packages (from requests->firebase) (2022.12.7)\n",
            "Requirement already satisfied: charset-normalizer~=2.0.0 in /usr/local/lib/python3.10/dist-packages (from requests->firebase) (2.0.12)\n",
            "Requirement already satisfied: idna<4,>=2.5 in /usr/local/lib/python3.10/dist-packages (from requests->firebase) (3.4)\n"
          ]
        }
      ],
      "source": [
        "!pip install firebase"
      ]
    },
    {
      "cell_type": "code",
      "execution_count": 5,
      "metadata": {
        "colab": {
          "base_uri": "https://localhost:8080/"
        },
        "id": "VzHLgf0sJT85",
        "outputId": "de08d5de-ad72-4133-c83b-a58b07a11a30"
      },
      "outputs": [
        {
          "output_type": "stream",
          "name": "stdout",
          "text": [
            "Drive already mounted at /content/drive; to attempt to forcibly remount, call drive.mount(\"/content/drive\", force_remount=True).\n"
          ]
        }
      ],
      "source": [
        "from google.colab import drive\n",
        "drive.mount('/content/drive')"
      ]
    },
    {
      "cell_type": "code",
      "execution_count": 6,
      "metadata": {
        "colab": {
          "base_uri": "https://localhost:8080/"
        },
        "id": "Qfr0NkiMJT2L",
        "outputId": "eac7ff6d-5abf-4593-9364-1bb03570a7da"
      },
      "outputs": [
        {
          "output_type": "stream",
          "name": "stdout",
          "text": [
            "/content/drive/MyDrive/cloud/CloudPythonGameHtmlFiles\n"
          ]
        }
      ],
      "source": [
        "cd /content/drive/MyDrive/cloud/CloudPythonGameHtmlFiles"
      ]
    },
    {
      "cell_type": "code",
      "execution_count": 7,
      "metadata": {
        "colab": {
          "base_uri": "https://localhost:8080/"
        },
        "id": "GyEAZFGIJTvs",
        "outputId": "928f0859-72c8-4332-b808-730f50690181"
      },
      "outputs": [
        {
          "output_type": "stream",
          "name": "stdout",
          "text": [
            "Authtoken saved to configuration file: /root/.ngrok2/ngrok.yml\n"
          ]
        }
      ],
      "source": [
        "!ngrok authtoken \"2PvTgN49XPyAHDm7xIZx7d5rhu6_5NHLCZJBhGgaAWR7SuqHc\"  "
      ]
    },
    {
      "cell_type": "code",
      "source": [
        "!pip install Flask-Modals"
      ],
      "metadata": {
        "colab": {
          "base_uri": "https://localhost:8080/"
        },
        "id": "qieizyBBAR9A",
        "outputId": "42df0b66-cad5-4a67-dabc-a57bc3c19355"
      },
      "execution_count": 23,
      "outputs": [
        {
          "output_type": "stream",
          "name": "stdout",
          "text": [
            "Looking in indexes: https://pypi.org/simple, https://us-python.pkg.dev/colab-wheels/public/simple/\n",
            "Collecting Flask-Modals\n",
            "  Downloading Flask_Modals-0.5.1-py3-none-any.whl (8.0 kB)\n",
            "Requirement already satisfied: Flask in /usr/local/lib/python3.10/dist-packages (from Flask-Modals) (2.2.4)\n",
            "Requirement already satisfied: Werkzeug>=2.2.2 in /usr/local/lib/python3.10/dist-packages (from Flask->Flask-Modals) (2.3.0)\n",
            "Requirement already satisfied: Jinja2>=3.0 in /usr/local/lib/python3.10/dist-packages (from Flask->Flask-Modals) (3.1.2)\n",
            "Requirement already satisfied: itsdangerous>=2.0 in /usr/local/lib/python3.10/dist-packages (from Flask->Flask-Modals) (2.1.2)\n",
            "Requirement already satisfied: click>=8.0 in /usr/local/lib/python3.10/dist-packages (from Flask->Flask-Modals) (8.1.3)\n",
            "Requirement already satisfied: MarkupSafe>=2.0 in /usr/local/lib/python3.10/dist-packages (from Jinja2>=3.0->Flask->Flask-Modals) (2.1.2)\n",
            "Installing collected packages: Flask-Modals\n",
            "Successfully installed Flask-Modals-0.5.1\n"
          ]
        }
      ]
    },
    {
      "cell_type": "code",
      "execution_count": null,
      "metadata": {
        "id": "QUxW4GoCJToi"
      },
      "outputs": [],
      "source": [
        "from flask_ngrok import run_with_ngrok\n",
        "from flask import Flask, render_template, url_for, request, redirect, abort, make_response, send_from_directory\n",
        "import backend\n",
        "import os \n",
        "app = Flask(__name__)\n",
        "run_with_ngrok(app)\n",
        "DBConnection = backend.Database('https://cloudclass-44ac5-default-rtdb.europe-west1.firebasedatabase.app/')\n",
        "\n",
        "\n",
        "\n",
        "@app.route('/')\n",
        "def index():\n",
        "  r = make_response(render_template('index.html'))\n",
        "  r.headers.set( \"ngrok-skip-browser-warning\", \"69420\")\n",
        "  return r\n",
        "\n",
        "@app.route('/<nickname>')\n",
        "def home(nickname):\n",
        "  db_users = DBConnection.get_data(\"Users\")\n",
        "  for user in db_users.values():\n",
        "    if(nickname == user['nickname']):\n",
        "      return render_template('index.html',nickname=nickname)\n",
        "  return render_template('pageNotFound.html')\n",
        "\n",
        "@app.route('/register')\n",
        "def register():\n",
        "  return render_template('register.html')\n",
        "\n",
        "def score(element):\n",
        "  return int(element[\"highscore\"])\n",
        "\n",
        "@app.route('/leaderboard')\n",
        "def leaderboard():\n",
        "  db_users = DBConnection.get_data(\"Users\")\n",
        "  db_list_users = [db_users[key] for key in db_users.keys()]\n",
        "  db_list_users.sort(key=score, reverse=True)\n",
        "  print(db_list_users)\n",
        "  return render_template('leaderboard.html', db_list_users=db_list_users)\n",
        "\n",
        "@app.route('/aboutUs')\n",
        "def aboutUs():\n",
        "  return render_template('AboutUs.html')\n",
        "\n",
        "@app.route('/login')\n",
        "def login():\n",
        "  return render_template('login.html')\n",
        "\n",
        "@app.route('/login',methods=[\"POST\"])\n",
        "def loginAction():\n",
        "  db_users = DBConnection.get_data(\"Users\")\n",
        "  username = request.form.get('username')\n",
        "  password = request.form.get('password')\n",
        "  print(username,password)\n",
        "\n",
        "  userData = {}\n",
        "  for user in db_users.values():\n",
        "    userData[user['username']] = user['password']\n",
        "  \n",
        "  print(userData)\n",
        "\n",
        "  if(username not in userData.keys()):\n",
        "    return abort(403)\n",
        "  if(password not in userData.values()):\n",
        "    return abort(403)\n",
        "  if(userData[username] == password):\n",
        "    # TODO: LOG IN\n",
        "    print(\"SUCCESS\")\n",
        "    nickname = \"\"\n",
        "    for user in db_users.values():\n",
        "      if(user[\"username\"] == username):\n",
        "        nickname = user[\"nickname\"]\n",
        "        break\n",
        "    return redirect(url_for('home', nickname=nickname))\n",
        "\n",
        "  return abort(403)\n",
        "\n",
        "@app.route('/register', methods=[\"POST\"])\n",
        "def registerpost():\n",
        "  username = request.form.get('username')\n",
        "  db_users = DBConnection.get_data(\"Users\")\n",
        "  print(db_users)\n",
        "  is_duplicate = [key for key in db_users.keys() if db_users[key][\"username\"]==username]\n",
        "  duplicated_users = list(is_duplicate)\n",
        "  if(len(duplicated_users)):\n",
        "    return abort(403)\n",
        "  \n",
        "  password = request.form.get('password')\n",
        "  nickname = request.form.get('nickname')\n",
        "  user_id = request.form.get('id')\n",
        "  new_user = {\n",
        "      \"highscore\":\"0\",\n",
        "      \"id\":user_id,\n",
        "      \"nickname\":nickname,\n",
        "      \"username\":username,\n",
        "      \"password\":password,\n",
        "      \"role\": \"player\"\n",
        "      }\n",
        "  DBConnection.post_data(\"Users\",new_user)\n",
        "  return redirect(url_for('home', nickname=nickname))\n",
        "\n",
        "app.run()"
      ]
    },
    {
      "cell_type": "code",
      "source": [
        "import backend\n",
        "DBConnection = backend.Database('https://cloudclass-44ac5-default-rtdb.europe-west1.firebasedatabase.app/')\n",
        "db_users = DBConnection.get_data(\"Users\")\n",
        "userData = {}\n",
        "for user in db_users.values():\n",
        "  userData[user['username']] = user['password']\n",
        "\n",
        "for user in db_users.values():\n",
        "  print(user)"
      ],
      "metadata": {
        "colab": {
          "base_uri": "https://localhost:8080/"
        },
        "id": "rXkJPqfpoLMY",
        "outputId": "c1bd8f99-6ce8-48db-86b1-ad09156b1ceb"
      },
      "execution_count": 9,
      "outputs": [
        {
          "output_type": "stream",
          "name": "stdout",
          "text": [
            "{'highscore': '0', 'id': '89p13', 'nickname': 'Racoon', 'password': '123', 'role': 'player', 'username': 'Rocket'}\n",
            "{'highscore': '0', 'id': '1G54F', 'nickname': 'Star Lord', 'password': '123', 'role': 'player', 'username': 'Quill'}\n",
            "{'highscore': '0', 'id': 'ffre456', 'nickname': 'mantissssss', 'password': '123', 'role': 'player', 'username': 'Mantis'}\n",
            "{'highscore': '0', 'id': 'I6A5G90', 'nickname': 'IAMGROOT', 'password': '123', 'role': 'player', 'username': 'Groot'}\n",
            "{'highscore': '0', 'id': 'GG1992', 'nickname': 'Davidik', 'password': '123', 'role': 'player', 'username': 'DavidZvonaruv'}\n"
          ]
        }
      ]
    }
  ],
  "metadata": {
    "colab": {
      "provenance": [],
      "include_colab_link": true
    },
    "kernelspec": {
      "display_name": "Python 3",
      "name": "python3"
    },
    "language_info": {
      "name": "python"
    }
  },
  "nbformat": 4,
  "nbformat_minor": 0
}