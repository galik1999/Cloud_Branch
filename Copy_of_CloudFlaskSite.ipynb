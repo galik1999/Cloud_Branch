{
  "cells": [
    {
      "cell_type": "markdown",
      "metadata": {
        "id": "view-in-github",
        "colab_type": "text"
      },
      "source": [
        "<a href=\"https://colab.research.google.com/github/galik1999/Cloud_Branch/blob/main/Copy_of_CloudFlaskSite.ipynb\" target=\"_parent\"><img src=\"https://colab.research.google.com/assets/colab-badge.svg\" alt=\"Open In Colab\"/></a>"
      ]
    },
    {
      "cell_type": "code",
      "execution_count": 1,
      "metadata": {
        "colab": {
          "base_uri": "https://localhost:8080/"
        },
        "id": "Xm1KoQ48JQZA",
        "outputId": "c27a77ee-1ea2-4155-f3e6-a76b21e953af"
      },
      "outputs": [
        {
          "output_type": "stream",
          "name": "stdout",
          "text": [
            "Looking in indexes: https://pypi.org/simple, https://us-python.pkg.dev/colab-wheels/public/simple/\n",
            "Collecting pyngrok==4.1.1\n",
            "  Downloading pyngrok-4.1.1.tar.gz (18 kB)\n",
            "  Preparing metadata (setup.py) ... \u001b[?25l\u001b[?25hdone\n",
            "Requirement already satisfied: future in /usr/local/lib/python3.10/dist-packages (from pyngrok==4.1.1) (0.18.3)\n",
            "Requirement already satisfied: PyYAML in /usr/local/lib/python3.10/dist-packages (from pyngrok==4.1.1) (6.0)\n",
            "Building wheels for collected packages: pyngrok\n",
            "  Building wheel for pyngrok (setup.py) ... \u001b[?25l\u001b[?25hdone\n",
            "  Created wheel for pyngrok: filename=pyngrok-4.1.1-py3-none-any.whl size=15963 sha256=ffc195c50ebaafb6f31bd4d5ef2c8fe458f3a9d9b29e510ac38f8c32d70dccc8\n",
            "  Stored in directory: /root/.cache/pip/wheels/4c/7c/4c/632fba2ea8e88d8890102eb07bc922e1ca8fa14db5902c91a8\n",
            "Successfully built pyngrok\n",
            "Installing collected packages: pyngrok\n",
            "Successfully installed pyngrok-4.1.1\n"
          ]
        }
      ],
      "source": [
        "!pip install pyngrok==4.1.1"
      ]
    },
    {
      "cell_type": "code",
      "execution_count": 2,
      "metadata": {
        "colab": {
          "base_uri": "https://localhost:8080/"
        },
        "id": "9bA2U7h9JRES",
        "outputId": "9431c8dd-c9b4-46db-8882-ec778804e0f4"
      },
      "outputs": [
        {
          "output_type": "stream",
          "name": "stdout",
          "text": [
            "Looking in indexes: https://pypi.org/simple, https://us-python.pkg.dev/colab-wheels/public/simple/\n",
            "Collecting flask_ngrok\n",
            "  Downloading flask_ngrok-0.0.25-py3-none-any.whl (3.1 kB)\n",
            "Requirement already satisfied: Flask>=0.8 in /usr/local/lib/python3.10/dist-packages (from flask_ngrok) (2.2.4)\n",
            "Requirement already satisfied: requests in /usr/local/lib/python3.10/dist-packages (from flask_ngrok) (2.27.1)\n",
            "Requirement already satisfied: Werkzeug>=2.2.2 in /usr/local/lib/python3.10/dist-packages (from Flask>=0.8->flask_ngrok) (2.3.0)\n",
            "Requirement already satisfied: Jinja2>=3.0 in /usr/local/lib/python3.10/dist-packages (from Flask>=0.8->flask_ngrok) (3.1.2)\n",
            "Requirement already satisfied: itsdangerous>=2.0 in /usr/local/lib/python3.10/dist-packages (from Flask>=0.8->flask_ngrok) (2.1.2)\n",
            "Requirement already satisfied: click>=8.0 in /usr/local/lib/python3.10/dist-packages (from Flask>=0.8->flask_ngrok) (8.1.3)\n",
            "Requirement already satisfied: urllib3<1.27,>=1.21.1 in /usr/local/lib/python3.10/dist-packages (from requests->flask_ngrok) (1.26.15)\n",
            "Requirement already satisfied: certifi>=2017.4.17 in /usr/local/lib/python3.10/dist-packages (from requests->flask_ngrok) (2022.12.7)\n",
            "Requirement already satisfied: charset-normalizer~=2.0.0 in /usr/local/lib/python3.10/dist-packages (from requests->flask_ngrok) (2.0.12)\n",
            "Requirement already satisfied: idna<4,>=2.5 in /usr/local/lib/python3.10/dist-packages (from requests->flask_ngrok) (3.4)\n",
            "Requirement already satisfied: MarkupSafe>=2.0 in /usr/local/lib/python3.10/dist-packages (from Jinja2>=3.0->Flask>=0.8->flask_ngrok) (2.1.2)\n",
            "Installing collected packages: flask_ngrok\n",
            "Successfully installed flask_ngrok-0.0.25\n"
          ]
        }
      ],
      "source": [
        "!pip install flask_ngrok"
      ]
    },
    {
      "cell_type": "code",
      "execution_count": 3,
      "metadata": {
        "colab": {
          "base_uri": "https://localhost:8080/"
        },
        "id": "aDPOLFZUJQ6O",
        "outputId": "75c4d3d8-44ce-41a8-ea82-3119bb8479e9"
      },
      "outputs": [
        {
          "output_type": "stream",
          "name": "stdout",
          "text": [
            "Looking in indexes: https://pypi.org/simple, https://us-python.pkg.dev/colab-wheels/public/simple/\n",
            "Collecting firebase\n",
            "  Downloading firebase-4.0.1-py3-none-any.whl (12 kB)\n",
            "Requirement already satisfied: requests in /usr/local/lib/python3.10/dist-packages (from firebase) (2.27.1)\n",
            "Requirement already satisfied: urllib3<1.27,>=1.21.1 in /usr/local/lib/python3.10/dist-packages (from requests->firebase) (1.26.15)\n",
            "Requirement already satisfied: certifi>=2017.4.17 in /usr/local/lib/python3.10/dist-packages (from requests->firebase) (2022.12.7)\n",
            "Requirement already satisfied: charset-normalizer~=2.0.0 in /usr/local/lib/python3.10/dist-packages (from requests->firebase) (2.0.12)\n",
            "Requirement already satisfied: idna<4,>=2.5 in /usr/local/lib/python3.10/dist-packages (from requests->firebase) (3.4)\n",
            "Installing collected packages: firebase\n",
            "Successfully installed firebase-4.0.1\n"
          ]
        }
      ],
      "source": [
        "!pip install firebase"
      ]
    },
    {
      "cell_type": "code",
      "execution_count": 4,
      "metadata": {
        "colab": {
          "base_uri": "https://localhost:8080/"
        },
        "id": "VzHLgf0sJT85",
        "outputId": "e73cb4e3-1593-4ef5-9007-2154c6356215"
      },
      "outputs": [
        {
          "output_type": "stream",
          "name": "stdout",
          "text": [
            "Mounted at /content/drive\n"
          ]
        }
      ],
      "source": [
        "from google.colab import drive\n",
        "drive.mount('/content/drive')"
      ]
    },
    {
      "cell_type": "code",
      "execution_count": 5,
      "metadata": {
        "colab": {
          "base_uri": "https://localhost:8080/"
        },
        "id": "Qfr0NkiMJT2L",
        "outputId": "45174c78-f3bf-414a-88c8-bb15b9925077"
      },
      "outputs": [
        {
          "output_type": "stream",
          "name": "stdout",
          "text": [
            "/content/drive/MyDrive/cloud/CloudPythonGameHtmlFiles\n"
          ]
        }
      ],
      "source": [
        "cd /content/drive/MyDrive/cloud/CloudPythonGameHtmlFiles"
      ]
    },
    {
      "cell_type": "code",
      "execution_count": 6,
      "metadata": {
        "colab": {
          "base_uri": "https://localhost:8080/"
        },
        "id": "GyEAZFGIJTvs",
        "outputId": "917a4d0b-d4c4-4a59-c548-32018078415c"
      },
      "outputs": [
        {
          "output_type": "stream",
          "name": "stdout",
          "text": [
            "Authtoken saved to configuration file: /root/.ngrok2/ngrok.yml\n"
          ]
        }
      ],
      "source": [
        "!ngrok authtoken \"2Q6fmW7Ye5Ci4k3MuyLXHHa0Vub_54C7qnE6W5skndEQNJ5Mj\"  "
      ]
    },
    {
      "cell_type": "code",
      "execution_count": null,
      "metadata": {
        "colab": {
          "base_uri": "https://localhost:8080/"
        },
        "id": "QUxW4GoCJToi",
        "outputId": "ac4a1bb3-c3fc-4b28-d03f-7736f0ad6f3e"
      },
      "outputs": [
        {
          "output_type": "stream",
          "name": "stdout",
          "text": [
            " * Serving Flask app '__main__'\n",
            " * Debug mode: off\n"
          ]
        },
        {
          "output_type": "stream",
          "name": "stderr",
          "text": [
            "INFO:werkzeug:\u001b[31m\u001b[1mWARNING: This is a development server. Do not use it in a production deployment. Use a production WSGI server instead.\u001b[0m\n",
            " * Running on http://127.0.0.1:5000\n",
            "INFO:werkzeug:\u001b[33mPress CTRL+C to quit\u001b[0m\n"
          ]
        },
        {
          "output_type": "stream",
          "name": "stdout",
          "text": [
            " * Running on http://235e-34-121-56-224.ngrok-free.app\n",
            " * Traffic stats available on http://127.0.0.1:4040\n"
          ]
        },
        {
          "output_type": "stream",
          "name": "stderr",
          "text": [
            "INFO:werkzeug:127.0.0.1 - - [23/May/2023 12:52:21] \"GET / HTTP/1.1\" 200 -\n",
            "INFO:werkzeug:127.0.0.1 - - [23/May/2023 12:52:21] \"GET /static/style.css HTTP/1.1\" 200 -\n",
            "INFO:werkzeug:127.0.0.1 - - [23/May/2023 12:52:21] \"GET /static/img/image-removebg-preview.png HTTP/1.1\" 200 -\n",
            "INFO:werkzeug:127.0.0.1 - - [23/May/2023 12:52:21] \"GET /static/img/image-removebg-preview(1).png HTTP/1.1\" 200 -\n",
            "INFO:werkzeug:127.0.0.1 - - [23/May/2023 12:52:22] \"GET /favicon.ico HTTP/1.1\" 200 -\n",
            "INFO:werkzeug:127.0.0.1 - - [23/May/2023 12:52:25] \"GET /manager HTTP/1.1\" 200 -\n",
            "INFO:werkzeug:127.0.0.1 - - [23/May/2023 12:52:25] \"GET /favicon.ico HTTP/1.1\" 200 -\n",
            "INFO:werkzeug:127.0.0.1 - - [23/May/2023 12:52:26] \"GET /manager/allQuestions HTTP/1.1\" 200 -\n",
            "INFO:werkzeug:127.0.0.1 - - [23/May/2023 12:52:26] \"\u001b[36mGET /static/style.css HTTP/1.1\u001b[0m\" 304 -\n",
            "INFO:werkzeug:127.0.0.1 - - [23/May/2023 12:52:26] \"\u001b[36mGET /static/img/image-removebg-preview.png HTTP/1.1\u001b[0m\" 304 -\n",
            "INFO:werkzeug:127.0.0.1 - - [23/May/2023 12:52:27] \"GET /favicon.ico HTTP/1.1\" 200 -\n"
          ]
        }
      ],
      "source": [
        "from flask_ngrok import run_with_ngrok\n",
        "from flask import Flask, render_template, url_for, request, redirect, abort, make_response, send_from_directory\n",
        "import backend\n",
        "import os \n",
        "app = Flask(__name__)\n",
        "run_with_ngrok(app)\n",
        "DBConnection = backend.Database('https://cloudclass-44ac5-default-rtdb.europe-west1.firebasedatabase.app/')\n",
        "\n",
        "\n",
        "@app.route('/')\n",
        "def index():\n",
        "  r = make_response(render_template('index.html'))\n",
        "  r.headers.set( \"ngrok-skip-browser-warning\", \"69420\")\n",
        "  return r\n",
        "\n",
        "@app.route('/<nickname>')\n",
        "def home(nickname):\n",
        "  db_users = DBConnection.get_data(\"Users\")\n",
        "  for user in db_users.values():\n",
        "    if(nickname == user['nickname']):\n",
        "      return render_template('index.html',nickname=nickname)\n",
        "  return render_template('pageNotFound.html')\n",
        "\n",
        "@app.route('/register')\n",
        "def register():\n",
        "  return render_template('register.html')\n",
        "\n",
        "def score(element):\n",
        "  return int(element[\"highscore\"])\n",
        "\n",
        "@app.route('/leaderboard')\n",
        "def leaderboard():\n",
        "  db_users = DBConnection.get_data(\"Users\")\n",
        "  db_list_users = [db_users[key] for key in db_users.keys()]\n",
        "  db_list_users.sort(key=score, reverse=True)\n",
        "  print(db_list_users)\n",
        "  return render_template('leaderboard.html', db_list_users=db_list_users)\n",
        "\n",
        "@app.route('/aboutUs')\n",
        "def aboutUs():\n",
        "  return render_template('AboutUs.html')\n",
        "\n",
        "@app.route('/login')\n",
        "def login():\n",
        "  return render_template('login.html',flag=True)\n",
        "\n",
        "@app.route('/login',methods=[\"POST\"])\n",
        "def loginAction(flag=True):\n",
        "  db_users = DBConnection.get_data(\"Users\")\n",
        "  username = request.form.get('username')\n",
        "  password = request.form.get('password')\n",
        "  print(username,password)\n",
        "\n",
        "  userData = {}\n",
        "  for user in db_users.values():\n",
        "    userData[user['username']] = user['password']\n",
        "  \n",
        "  print(userData)\n",
        "\n",
        "  if(username not in userData.keys()):\n",
        "    return render_template('login.html',flag=False)\n",
        "  if(password not in userData.values()):\n",
        "    return render_template('login.html',flag=False)\n",
        "  if(userData[username] == password):\n",
        "    # TODO: LOG IN\n",
        "    print(\"SUCCESS\")\n",
        "    nickname = \"\"\n",
        "    for user in db_users.values():\n",
        "      if(user[\"username\"] == username):\n",
        "        nickname = user[\"nickname\"]\n",
        "        break\n",
        "    \n",
        "    return redirect(url_for('home', nickname=nickname))\n",
        "\n",
        "  return render_template('login.html',flag=False)\n",
        "\n",
        "@app.route('/register', methods=[\"POST\"])\n",
        "def registerpost():\n",
        "  username = request.form.get('username')\n",
        "  db_users = DBConnection.get_data(\"Users\")\n",
        "  print(db_users)\n",
        "  is_duplicate = [key for key in db_users.keys() if db_users[key][\"username\"]==username]\n",
        "  duplicated_users = list(is_duplicate)\n",
        "  if(len(duplicated_users)):\n",
        "    return abort(403)\n",
        "  \n",
        "  password = request.form.get('password')\n",
        "  nickname = request.form.get('nickname')\n",
        "  user_id = request.form.get('id')\n",
        "  new_user = {\n",
        "      \"highscore\":\"0\",\n",
        "      \"id\":user_id,\n",
        "      \"nickname\":nickname,\n",
        "      \"username\":username,\n",
        "      \"password\":password,\n",
        "      \"role\": \"player\"\n",
        "      }\n",
        "  DBConnection.post_data(\"Users\",new_user)\n",
        "  return redirect(url_for('home', nickname=nickname))\n",
        "\n",
        "@app.route('/manager/<qID>')\n",
        "def getQuestion(qID):\n",
        "  qArr = DBConnection.get_data(\"questions\")\n",
        "  qNumber = int(qID)\n",
        "  print(qArr)\n",
        "  return render_template('question.html',qArr=qArr,qNumber = qNumber)\n",
        "\n",
        "@app.route('/manager/<qID>',methods=['POST'])\n",
        "def operations(qID):\n",
        "  if request.method == 'POST':\n",
        "    if(request.form.get('delete') == 'Delete Question'):\n",
        "      DBConnection.delete_data('questions',qID)\n",
        "    elif(request.form.get('update') == 'Update Question'):\n",
        "      print(request.form.get('update'))\n",
        "      qArr = DBConnection.get_data('questions')\n",
        "      key = len(qArr)\n",
        "      # CRUD CREATE OPERATION\n",
        "      description = request.form.get('desc')\n",
        "      option1 = request.form.get('opt1')\n",
        "      option2 = request.form.get('opt2')\n",
        "      option3 = request.form.get('opt3')\n",
        "      option4 = request.form.get('opt4')\n",
        "      answer = request.form.get('corr')\n",
        "      difficulty = request.form.get('diff')\n",
        "      \n",
        "      newQuestion = {\n",
        "          'question': description,\n",
        "          'option1': option1, \n",
        "          'option2': option2,\n",
        "          'option3': option3,\n",
        "          'option4': option4,\n",
        "          'correct': answer,\n",
        "          'questionlevel': difficulty    \n",
        "      }\n",
        "      DBConnection.update_data('questions',str(qID),newQuestion)\n",
        "  return redirect(url_for('manager'))\n",
        "\n",
        "@app.route('/manager')\n",
        "def manager():\n",
        "  return render_template('manager.html')\n",
        "\n",
        "@app.route('/manager/allQuestions')\n",
        "def allQuestions():\n",
        "  return render_template('allQuestions.html')\n",
        "\n",
        "@app.route('/manager/addQuestion')\n",
        "def addQuestion():\n",
        "  return render_template('addQuestion.html')\n",
        "\n",
        "\n",
        "@app.route('/manager/addQuestion',methods = ['POST'])\n",
        "def postQuestion():\n",
        "  qArr = DBConnection.get_data('questions')\n",
        "  key = len(qArr)\n",
        "  # CRUD CREATE OPERATION\n",
        "  description = request.form.get('desc')\n",
        "  option1 = request.form.get('opt1')\n",
        "  option2 = request.form.get('opt2')\n",
        "  option3 = request.form.get('opt3')\n",
        "  option4 = request.form.get('opt4')\n",
        "  answer = request.form.get('corr')\n",
        "  difficulty = request.form.get('diff')\n",
        "  \n",
        "  newQuestion = {\n",
        "      'question': description,\n",
        "      'option1': option1, \n",
        "      'option2': option2,\n",
        "      'option3': option3,\n",
        "      'option4': option4,\n",
        "      'correct': answer,\n",
        "      'questionlevel': difficulty    \n",
        "  }\n",
        "  DBConnection.update_data(\"questions\",str(key),newQuestion)\n",
        "  return redirect(url_for('manager'))\n",
        "\n",
        "\n",
        "\n",
        "app.run()"
      ]
    },
    {
      "cell_type": "code",
      "execution_count": 7,
      "metadata": {
        "id": "hrXnq7V81Uyh"
      },
      "outputs": [],
      "source": []
    },
    {
      "cell_type": "code",
      "execution_count": 8,
      "metadata": {
        "colab": {
          "base_uri": "https://localhost:8080/"
        },
        "id": "xNTgyqgpl4GW",
        "outputId": "86951837-1de3-4179-c6ef-4f2ead05063b"
      },
      "outputs": [
        {
          "output_type": "execute_result",
          "data": {
            "text/plain": [
              "46"
            ]
          },
          "metadata": {},
          "execution_count": 8
        }
      ],
      "source": [
        "import backend\n",
        "DBConnection = backend.Database('https://cloudclass-44ac5-default-rtdb.europe-west1.firebasedatabase.app/')\n",
        "qArr = DBConnection.get_data('questions')\n",
        "len(qArr)"
      ]
    },
    {
      "cell_type": "code",
      "execution_count": 8,
      "metadata": {
        "id": "y6JbUajpWu8M"
      },
      "outputs": [],
      "source": []
    },
    {
      "cell_type": "code",
      "execution_count": 9,
      "metadata": {
        "colab": {
          "base_uri": "https://localhost:8080/"
        },
        "id": "rXkJPqfpoLMY",
        "outputId": "15be6e43-4f2f-4495-e5cf-6c36230decdb"
      },
      "outputs": [
        {
          "output_type": "stream",
          "name": "stdout",
          "text": [
            "{'highscore': '10', 'id': '123', 'level': 'Medium', 'nickname': 'Racoonnnnnnn', 'password': '123', 'role': 'player', 'username': 'Rocket'}\n",
            "{'highscore': '0', 'id': '1G54F', 'level': 'Easy', 'nickname': 'Star Lord', 'password': '123', 'role': 'player', 'username': 'Quill'}\n",
            "{'highscore': '0', 'id': 'ffre456', 'level': 'Easy', 'nickname': 'mantissssss', 'password': '123', 'role': 'player', 'username': 'Mantis'}\n",
            "{'highscore': '0', 'id': 'I6A5G90', 'level': 'Medium', 'nickname': 'IAMGROOT', 'password': '123', 'role': 'player', 'username': 'Groot'}\n",
            "{'highscore': '0', 'id': 'GG1992', 'level': 'Easy', 'nickname': 'Davidik', 'password': '123', 'role': 'player', 'username': 'DavidZvonaruv'}\n",
            "{'highscore': '0', 'id': '123', 'level': 'Medium', 'nickname': '123', 'password': '12', 'role': 'player', 'username': 'Quill'}\n"
          ]
        }
      ],
      "source": [
        "import backend\n",
        "DBConnection = backend.Database('https://cloudclass-44ac5-default-rtdb.europe-west1.firebasedatabase.app/')\n",
        "db_users = DBConnection.get_data(\"Users\")\n",
        "userData = {}\n",
        "for user in db_users.values():\n",
        "  userData[user['username']] = user['password']\n",
        "\n",
        "for user in db_users.values():\n",
        "  print(user)"
      ]
    },
    {
      "cell_type": "code",
      "execution_count": 10,
      "metadata": {
        "id": "MEe7zvq4jqa4"
      },
      "outputs": [],
      "source": [
        "# from firebase import firebase\n",
        "# import backend\n",
        "\n",
        "# DBConnection = backend.Database('https://cloudclass-44ac5-default-rtdb.europe-west1.firebasedatabase.app/')\n",
        "# DBConnection.update_data('questions','54',{\"name\":\"miguel\"})"
      ]
    }
  ],
  "metadata": {
    "colab": {
      "provenance": [],
      "include_colab_link": true
    },
    "kernelspec": {
      "display_name": "Python 3",
      "name": "python3"
    },
    "language_info": {
      "name": "python"
    }
  },
  "nbformat": 4,
  "nbformat_minor": 0
}