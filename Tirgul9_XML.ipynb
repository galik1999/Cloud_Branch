{
  "nbformat": 4,
  "nbformat_minor": 0,
  "metadata": {
    "colab": {
      "provenance": [],
      "authorship_tag": "ABX9TyP5DtcnCAfaBBPX5EOK9E9c",
      "include_colab_link": true
    },
    "kernelspec": {
      "name": "python3",
      "display_name": "Python 3"
    },
    "language_info": {
      "name": "python"
    }
  },
  "cells": [
    {
      "cell_type": "markdown",
      "metadata": {
        "id": "view-in-github",
        "colab_type": "text"
      },
      "source": [
        "<a href=\"https://colab.research.google.com/github/galik1999/Cloud_Branch/blob/Tirgul9_XML/Tirgul9_XML.ipynb\" target=\"_parent\"><img src=\"https://colab.research.google.com/assets/colab-badge.svg\" alt=\"Open In Colab\"/></a>"
      ]
    },
    {
      "cell_type": "code",
      "execution_count": null,
      "metadata": {
        "id": "80f5zdNSrVvf"
      },
      "outputs": [],
      "source": [
        "from google.colab import drive\n",
        "drive.mount('/content/drive')"
      ]
    },
    {
      "cell_type": "code",
      "source": [
        "cd /content/drive/MyDrive/Tirgul9Cloud"
      ],
      "metadata": {
        "id": "-UpNAfInrZY2"
      },
      "execution_count": null,
      "outputs": []
    },
    {
      "cell_type": "code",
      "source": [
        "!pip install firebase"
      ],
      "metadata": {
        "id": "Gqnu_KjkrZeQ"
      },
      "execution_count": null,
      "outputs": []
    },
    {
      "cell_type": "code",
      "source": [
        "from pandas import option_context\n",
        "from firebase import firebase\n",
        "import pandas_read_xml as pdx\n",
        "from pandas_read_xml import flatten, fully_flatten, auto_separate_tables\n",
        "\n",
        "def update_data(collection, target, data):\n",
        "        for key in data:\n",
        "            FBConn.put((\"/\" + collection + \"/\"+target), key, data[key])\n",
        "\n",
        "FBConn = firebase.FirebaseApplication('https://cloudclass-44ac5-default-rtdb.europe-west1.firebasedatabase.app/',None)\n",
        "questions = FBConn.get('/questions',None)\n",
        "\n",
        "# print(len(questions))\n",
        "index = len(questions)\n",
        "\n",
        "with open('Questions_Tirgul.txt') as f:\n",
        "    lines = f.read()\n",
        "\n",
        "# print(lines)\n",
        "df = pdx.read_xml(lines, ['questions'])\n",
        "df1 = df.pipe(flatten)\n",
        "df2 = df1.pipe(flatten)\n",
        "df3 = df2.pipe(flatten)\n",
        "\n",
        "for question in df2['question|text']:\n",
        "  print(question)\n",
        "\n",
        "for row in df3.values:\n",
        "  newQuestion = dict()\n",
        "  newQuestion['question'] = row[0]\n",
        "  newQuestion['correct'] = row[1]\n",
        "  newQuestion['questionlevel'] = row[2]\n",
        "\n",
        "  options = row[3]\n",
        "  for option in options:\n",
        "    optionNum = option['@id']\n",
        "    optionKeyName = \"option\" + optionNum\n",
        "    optionValue = option['#text']\n",
        "    newQuestion[optionKeyName] = optionValue\n",
        " \n",
        "  print(newQuestion)\n",
        " \n",
        "  update_data('questions',str(index),newQuestion)\n",
        "  index+=1  \n",
        "\n",
        "\n",
        "\n"
      ],
      "metadata": {
        "id": "Joi6uqdxrZiC"
      },
      "execution_count": null,
      "outputs": []
    },
    {
      "cell_type": "code",
      "source": [],
      "metadata": {
        "id": "Kvr57dVPrZn-"
      },
      "execution_count": null,
      "outputs": []
    },
    {
      "cell_type": "code",
      "source": [],
      "metadata": {
        "id": "h8H3GJXmrZpq"
      },
      "execution_count": null,
      "outputs": []
    }
  ]
}